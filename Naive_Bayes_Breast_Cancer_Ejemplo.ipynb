{
  "nbformat": 4,
  "nbformat_minor": 0,
  "metadata": {
    "kernelspec": {
      "display_name": "Python 3",
      "language": "python",
      "name": "python3"
    },
    "language_info": {
      "codemirror_mode": {
        "name": "ipython",
        "version": 3
      },
      "file_extension": ".py",
      "mimetype": "text/x-python",
      "name": "python",
      "nbconvert_exporter": "python",
      "pygments_lexer": "ipython3",
      "version": "3.8.3"
    },
    "colab": {
      "name": "Naive_Bayes_Breast_Cancer_Ejemplo.ipynb",
      "provenance": [],
      "collapsed_sections": [],
      "include_colab_link": true
    }
  },
  "cells": [
    {
      "cell_type": "markdown",
      "metadata": {
        "id": "view-in-github",
        "colab_type": "text"
      },
      "source": [
        "<a href=\"https://colab.research.google.com/github/ClaudioCaniullan/Machine-Learning-Naive-Bayes-Aplicaciones/blob/main/Naive_Bayes_Breast_Cancer_Ejemplo.ipynb\" target=\"_parent\"><img src=\"https://colab.research.google.com/assets/colab-badge.svg\" alt=\"Open In Colab\"/></a>"
      ]
    },
    {
      "cell_type": "markdown",
      "metadata": {
        "id": "1yMQEwEKr8Do"
      },
      "source": [
        "**INSTITUTO DATA SCIENCE ARGENTINA S.A**\n",
        "** Diplomatura en Ciencia de Datos con R y Python**\n",
        "\n",
        "**Ejercicio 1 en Clases**\n",
        "\n",
        "**OBJETIVO**: Realizar una predicción con el set de datos de Breast Cancer usando el algoritmo Naive Bayes.\n",
        "\n",
        "**Estructura del programa**\n",
        "\n",
        "- Importar librerías\n",
        "- Seleccionar el dataset\n",
        "- Explorar los Datos\n",
        "- Dividir los datos para training y test (70%/30% o 80%/20%)\n",
        "- Predecir con el clasificador seleccionado\n",
        "\n",
        "**Herramientas**  \n",
        "\n",
        "- DataSets: Breast Cancer\n",
        "- Algoritmo: Naive Bayes \n",
        "    - sklearn.naive_bayes.GaussianNB(*, priors=None, var_smoothing=1e-09)\n",
        "- Medidor del Clasificador: Matriz de Confusión \n",
        "- Función Split para dividir la data en set de Training y Test\n",
        "\n",
        "\n"
      ]
    },
    {
      "cell_type": "markdown",
      "metadata": {
        "id": "0zaXOdTlr8Ds"
      },
      "source": [
        "**ALGORITMO NAIVE BAYES Y SUS PARÁMETROS**\n",
        "\n",
        "**sklearn.naive_bayes.GaussianNB(*, priors=None, var_smoothing=1e-09)**\n",
        "\n",
        "- priors: array-like of shape (n_classes,)\n",
        "Probabilidades previas de las clases. Si se especifica, los antecedentes no se ajustan de acuerdo con los datos.\n",
        "\n",
        "- var_smoothing: float, predeterminado = 1e-9\n",
        "Porción de la variación más grande de todas las características que se agrega a las variaciones para la estabilidad del cálculo.\n"
      ]
    },
    {
      "cell_type": "code",
      "metadata": {
        "id": "8NhUIJS0r8Dt"
      },
      "source": [
        "# Importar librerías y métodos\n",
        "from sklearn import datasets\n",
        "from sklearn.model_selection import train_test_split\n",
        "from sklearn.naive_bayes import GaussianNB\n",
        "from sklearn.metrics import confusion_matrix\n",
        "from sklearn.metrics import precision_score"
      ],
      "execution_count": null,
      "outputs": []
    },
    {
      "cell_type": "code",
      "metadata": {
        "id": "Mk-ZS76Dr8Du"
      },
      "source": [
        "# Guardar Breast Cancer en dataset\n",
        "dataset = datasets.load_breast_cancer()"
      ],
      "execution_count": null,
      "outputs": []
    },
    {
      "cell_type": "code",
      "metadata": {
        "scrolled": true,
        "colab": {
          "base_uri": "https://localhost:8080/"
        },
        "id": "MD9T368or8Du",
        "outputId": "aabe310c-41f1-40f5-8209-40d85ea62029"
      },
      "source": [
        "# Verificar las dimensiones contenidas en el dataset\n",
        "print('Información en el dataset:')\n",
        "print(dataset.keys())"
      ],
      "execution_count": null,
      "outputs": [
        {
          "output_type": "stream",
          "name": "stdout",
          "text": [
            "Información en el dataset:\n",
            "dict_keys(['data', 'target', 'frame', 'target_names', 'DESCR', 'feature_names', 'filename', 'data_module'])\n"
          ]
        }
      ]
    },
    {
      "cell_type": "code",
      "metadata": {
        "colab": {
          "base_uri": "https://localhost:8080/"
        },
        "id": "-PBd9401r8Dw",
        "outputId": "95b4e4cd-e471-479e-dedd-a353df8f240f"
      },
      "source": [
        "# Verificar las características del dataset\n",
        "print('Características del dataset:')\n",
        "print(dataset.DESCR)"
      ],
      "execution_count": null,
      "outputs": [
        {
          "output_type": "stream",
          "name": "stdout",
          "text": [
            "Características del dataset:\n",
            ".. _breast_cancer_dataset:\n",
            "\n",
            "Breast cancer wisconsin (diagnostic) dataset\n",
            "--------------------------------------------\n",
            "\n",
            "**Data Set Characteristics:**\n",
            "\n",
            "    :Number of Instances: 569\n",
            "\n",
            "    :Number of Attributes: 30 numeric, predictive attributes and the class\n",
            "\n",
            "    :Attribute Information:\n",
            "        - radius (mean of distances from center to points on the perimeter)\n",
            "        - texture (standard deviation of gray-scale values)\n",
            "        - perimeter\n",
            "        - area\n",
            "        - smoothness (local variation in radius lengths)\n",
            "        - compactness (perimeter^2 / area - 1.0)\n",
            "        - concavity (severity of concave portions of the contour)\n",
            "        - concave points (number of concave portions of the contour)\n",
            "        - symmetry\n",
            "        - fractal dimension (\"coastline approximation\" - 1)\n",
            "\n",
            "        The mean, standard error, and \"worst\" or largest (mean of the three\n",
            "        worst/largest values) of these features were computed for each image,\n",
            "        resulting in 30 features.  For instance, field 0 is Mean Radius, field\n",
            "        10 is Radius SE, field 20 is Worst Radius.\n",
            "\n",
            "        - class:\n",
            "                - WDBC-Malignant\n",
            "                - WDBC-Benign\n",
            "\n",
            "    :Summary Statistics:\n",
            "\n",
            "    ===================================== ====== ======\n",
            "                                           Min    Max\n",
            "    ===================================== ====== ======\n",
            "    radius (mean):                        6.981  28.11\n",
            "    texture (mean):                       9.71   39.28\n",
            "    perimeter (mean):                     43.79  188.5\n",
            "    area (mean):                          143.5  2501.0\n",
            "    smoothness (mean):                    0.053  0.163\n",
            "    compactness (mean):                   0.019  0.345\n",
            "    concavity (mean):                     0.0    0.427\n",
            "    concave points (mean):                0.0    0.201\n",
            "    symmetry (mean):                      0.106  0.304\n",
            "    fractal dimension (mean):             0.05   0.097\n",
            "    radius (standard error):              0.112  2.873\n",
            "    texture (standard error):             0.36   4.885\n",
            "    perimeter (standard error):           0.757  21.98\n",
            "    area (standard error):                6.802  542.2\n",
            "    smoothness (standard error):          0.002  0.031\n",
            "    compactness (standard error):         0.002  0.135\n",
            "    concavity (standard error):           0.0    0.396\n",
            "    concave points (standard error):      0.0    0.053\n",
            "    symmetry (standard error):            0.008  0.079\n",
            "    fractal dimension (standard error):   0.001  0.03\n",
            "    radius (worst):                       7.93   36.04\n",
            "    texture (worst):                      12.02  49.54\n",
            "    perimeter (worst):                    50.41  251.2\n",
            "    area (worst):                         185.2  4254.0\n",
            "    smoothness (worst):                   0.071  0.223\n",
            "    compactness (worst):                  0.027  1.058\n",
            "    concavity (worst):                    0.0    1.252\n",
            "    concave points (worst):               0.0    0.291\n",
            "    symmetry (worst):                     0.156  0.664\n",
            "    fractal dimension (worst):            0.055  0.208\n",
            "    ===================================== ====== ======\n",
            "\n",
            "    :Missing Attribute Values: None\n",
            "\n",
            "    :Class Distribution: 212 - Malignant, 357 - Benign\n",
            "\n",
            "    :Creator:  Dr. William H. Wolberg, W. Nick Street, Olvi L. Mangasarian\n",
            "\n",
            "    :Donor: Nick Street\n",
            "\n",
            "    :Date: November, 1995\n",
            "\n",
            "This is a copy of UCI ML Breast Cancer Wisconsin (Diagnostic) datasets.\n",
            "https://goo.gl/U2Uwz2\n",
            "\n",
            "Features are computed from a digitized image of a fine needle\n",
            "aspirate (FNA) of a breast mass.  They describe\n",
            "characteristics of the cell nuclei present in the image.\n",
            "\n",
            "Separating plane described above was obtained using\n",
            "Multisurface Method-Tree (MSM-T) [K. P. Bennett, \"Decision Tree\n",
            "Construction Via Linear Programming.\" Proceedings of the 4th\n",
            "Midwest Artificial Intelligence and Cognitive Science Society,\n",
            "pp. 97-101, 1992], a classification method which uses linear\n",
            "programming to construct a decision tree.  Relevant features\n",
            "were selected using an exhaustive search in the space of 1-4\n",
            "features and 1-3 separating planes.\n",
            "\n",
            "The actual linear program used to obtain the separating plane\n",
            "in the 3-dimensional space is that described in:\n",
            "[K. P. Bennett and O. L. Mangasarian: \"Robust Linear\n",
            "Programming Discrimination of Two Linearly Inseparable Sets\",\n",
            "Optimization Methods and Software 1, 1992, 23-34].\n",
            "\n",
            "This database is also available through the UW CS ftp server:\n",
            "\n",
            "ftp ftp.cs.wisc.edu\n",
            "cd math-prog/cpo-dataset/machine-learn/WDBC/\n",
            "\n",
            ".. topic:: References\n",
            "\n",
            "   - W.N. Street, W.H. Wolberg and O.L. Mangasarian. Nuclear feature extraction \n",
            "     for breast tumor diagnosis. IS&T/SPIE 1993 International Symposium on \n",
            "     Electronic Imaging: Science and Technology, volume 1905, pages 861-870,\n",
            "     San Jose, CA, 1993.\n",
            "   - O.L. Mangasarian, W.N. Street and W.H. Wolberg. Breast cancer diagnosis and \n",
            "     prognosis via linear programming. Operations Research, 43(4), pages 570-577, \n",
            "     July-August 1995.\n",
            "   - W.H. Wolberg, W.N. Street, and O.L. Mangasarian. Machine learning techniques\n",
            "     to diagnose breast cancer from fine-needle aspirates. Cancer Letters 77 (1994) \n",
            "     163-171.\n"
          ]
        }
      ]
    },
    {
      "cell_type": "markdown",
      "metadata": {
        "id": "m0vAQHa1r8Dx"
      },
      "source": [
        "**Seleccionamos todas las columnas**\n",
        "    \n",
        "    X = dataset.data\n",
        "\n",
        "**Defino los datos correspondientes a las etiquetas**\n",
        "\n",
        "    y = dataset.target\n",
        "    \n"
      ]
    },
    {
      "cell_type": "code",
      "metadata": {
        "id": "EHMPCMrAr8Dy"
      },
      "source": [
        "# Seleccionar todas las columnas\n",
        "X = dataset.data\n",
        "\n",
        "# Definir los datos correspondientes a las etiquetas\n",
        "y = dataset.target"
      ],
      "execution_count": null,
      "outputs": []
    },
    {
      "cell_type": "code",
      "metadata": {
        "colab": {
          "base_uri": "https://localhost:8080/"
        },
        "id": "om27U6cQr8Dy",
        "outputId": "63095cfb-7697-4f1d-e0d5-a0c115ba0ce6"
      },
      "source": [
        "# Verificar las características del dataset X\n",
        "print(dataset.data)"
      ],
      "execution_count": null,
      "outputs": [
        {
          "output_type": "stream",
          "name": "stdout",
          "text": [
            "[[1.799e+01 1.038e+01 1.228e+02 ... 2.654e-01 4.601e-01 1.189e-01]\n",
            " [2.057e+01 1.777e+01 1.329e+02 ... 1.860e-01 2.750e-01 8.902e-02]\n",
            " [1.969e+01 2.125e+01 1.300e+02 ... 2.430e-01 3.613e-01 8.758e-02]\n",
            " ...\n",
            " [1.660e+01 2.808e+01 1.083e+02 ... 1.418e-01 2.218e-01 7.820e-02]\n",
            " [2.060e+01 2.933e+01 1.401e+02 ... 2.650e-01 4.087e-01 1.240e-01]\n",
            " [7.760e+00 2.454e+01 4.792e+01 ... 0.000e+00 2.871e-01 7.039e-02]]\n"
          ]
        }
      ]
    },
    {
      "cell_type": "code",
      "metadata": {
        "colab": {
          "base_uri": "https://localhost:8080/"
        },
        "id": "u-lejx_rr8Dz",
        "outputId": "100e07da-6cfe-4737-d75e-d7e5e561f55e"
      },
      "source": [
        "# Verificar el target y \n",
        "print(dataset.target)"
      ],
      "execution_count": null,
      "outputs": [
        {
          "output_type": "stream",
          "name": "stdout",
          "text": [
            "[0 0 0 0 0 0 0 0 0 0 0 0 0 0 0 0 0 0 0 1 1 1 0 0 0 0 0 0 0 0 0 0 0 0 0 0 0\n",
            " 1 0 0 0 0 0 0 0 0 1 0 1 1 1 1 1 0 0 1 0 0 1 1 1 1 0 1 0 0 1 1 1 1 0 1 0 0\n",
            " 1 0 1 0 0 1 1 1 0 0 1 0 0 0 1 1 1 0 1 1 0 0 1 1 1 0 0 1 1 1 1 0 1 1 0 1 1\n",
            " 1 1 1 1 1 1 0 0 0 1 0 0 1 1 1 0 0 1 0 1 0 0 1 0 0 1 1 0 1 1 0 1 1 1 1 0 1\n",
            " 1 1 1 1 1 1 1 1 0 1 1 1 1 0 0 1 0 1 1 0 0 1 1 0 0 1 1 1 1 0 1 1 0 0 0 1 0\n",
            " 1 0 1 1 1 0 1 1 0 0 1 0 0 0 0 1 0 0 0 1 0 1 0 1 1 0 1 0 0 0 0 1 1 0 0 1 1\n",
            " 1 0 1 1 1 1 1 0 0 1 1 0 1 1 0 0 1 0 1 1 1 1 0 1 1 1 1 1 0 1 0 0 0 0 0 0 0\n",
            " 0 0 0 0 0 0 0 1 1 1 1 1 1 0 1 0 1 1 0 1 1 0 1 0 0 1 1 1 1 1 1 1 1 1 1 1 1\n",
            " 1 0 1 1 0 1 0 1 1 1 1 1 1 1 1 1 1 1 1 1 1 0 1 1 1 0 1 0 1 1 1 1 0 0 0 1 1\n",
            " 1 1 0 1 0 1 0 1 1 1 0 1 1 1 1 1 1 1 0 0 0 1 1 1 1 1 1 1 1 1 1 1 0 0 1 0 0\n",
            " 0 1 0 0 1 1 1 1 1 0 1 1 1 1 1 0 1 1 1 0 1 1 0 0 1 1 1 1 1 1 0 1 1 1 1 1 1\n",
            " 1 0 1 1 1 1 1 0 1 1 0 1 1 1 1 1 1 1 1 1 1 1 1 0 1 0 0 1 0 1 1 1 1 1 0 1 1\n",
            " 0 1 0 1 1 0 1 0 1 1 1 1 1 1 1 1 0 0 1 1 1 1 1 1 0 1 1 1 1 1 1 1 1 1 1 0 1\n",
            " 1 1 1 1 1 1 0 1 0 1 1 0 1 1 1 1 1 0 0 1 0 1 0 1 1 1 1 1 0 1 1 0 1 0 1 0 0\n",
            " 1 1 1 0 1 1 1 1 1 1 1 1 1 1 1 0 1 0 0 1 1 1 1 1 1 1 1 1 1 1 1 1 1 1 1 1 1\n",
            " 1 1 1 1 1 1 1 0 0 0 0 0 0 1]\n"
          ]
        }
      ]
    },
    {
      "cell_type": "code",
      "metadata": {
        "colab": {
          "base_uri": "https://localhost:8080/"
        },
        "id": "3HBj9Abar8Dz",
        "outputId": "1d2a03a0-3eb9-4b3f-bca8-ab750682eb41"
      },
      "source": [
        "# Separar los datos en \"train\" y \"test\" para probar los algoritmos\n",
        "X_train, X_test, y_train, y_test = train_test_split(X, y, test_size=0.2)\n",
        "\n",
        "# Definir Naive Bayes como \"algoritmo\"\n",
        "algoritmo = GaussianNB()\n",
        "\n",
        "# Entrenar el modelo (Fit)\n",
        "algoritmo.fit(X_train, y_train)\n",
        "\n",
        "# Realizar la predicción\n",
        "y_pred = algoritmo.predict(X_test)\n",
        "\n",
        "print('Dado el conjunto de prueba X_test')\n",
        "print(X_test)\n",
        "print('Tenemos que 0:tiene cáncer, 1:no tiene cáncer')\n",
        "print(y_pred)\n"
      ],
      "execution_count": null,
      "outputs": [
        {
          "output_type": "stream",
          "name": "stdout",
          "text": [
            "Dado el conjunto de prueba X_test\n",
            "[[1.980e+01 2.156e+01 1.297e+02 ... 1.820e-01 3.070e-01 8.255e-02]\n",
            " [1.317e+01 1.866e+01 8.598e+01 ... 2.088e-01 3.900e-01 1.179e-01]\n",
            " [1.450e+01 1.089e+01 9.428e+01 ... 1.221e-01 2.889e-01 8.006e-02]\n",
            " ...\n",
            " [1.530e+01 2.527e+01 1.024e+02 ... 2.024e-01 4.027e-01 9.876e-02]\n",
            " [1.129e+01 1.304e+01 7.223e+01 ... 8.750e-02 2.733e-01 8.022e-02]\n",
            " [1.065e+01 2.522e+01 6.801e+01 ... 6.136e-02 3.409e-01 8.147e-02]]\n",
            "Tenemos que 0:tiene cáncer, 1:no tiene cáncer\n",
            "[0 0 1 0 1 1 0 1 1 0 1 1 0 1 0 1 1 1 1 1 1 0 1 1 1 1 0 1 0 0 0 1 0 1 0 1 1\n",
            " 1 1 1 1 1 0 1 1 1 1 1 1 0 1 0 0 1 1 1 1 0 1 1 1 0 1 1 1 1 1 1 0 0 1 1 0 0\n",
            " 1 1 1 1 1 1 1 0 0 1 0 0 1 1 0 1 0 1 1 1 1 0 0 0 1 0 1 0 0 1 1 0 1 1 1 1 1\n",
            " 0 1 1]\n"
          ]
        }
      ]
    },
    {
      "cell_type": "code",
      "metadata": {
        "colab": {
          "base_uri": "https://localhost:8080/",
          "height": 318
        },
        "id": "GrDATuior8D1",
        "outputId": "9aeda209-8971-4294-e52a-d29221305e39"
      },
      "source": [
        "# Generar y analizar la matriz de Confusión\n",
        "import seaborn as sn\n",
        "import matplotlib.pyplot as plt\n",
        "\n",
        "matriz = confusion_matrix(y_test, y_pred)\n",
        "print('Matriz de Confusión:')\n",
        "print(matriz)\n",
        "\n",
        "sn.heatmap(matriz, annot=True)\n",
        "plt.show()\n"
      ],
      "execution_count": null,
      "outputs": [
        {
          "output_type": "stream",
          "name": "stdout",
          "text": [
            "Matriz de Confusión:\n",
            "[[34  5]\n",
            " [ 4 71]]\n"
          ]
        },
        {
          "output_type": "display_data",
          "data": {
            "image/png": "[encoded data removed]",
            "text/plain": [
              "<Figure size 432x288 with 2 Axes>"
            ]
          },
          "metadata": {
            "needs_background": "light"
          }
        }
      ]
    },
    {
      "cell_type": "markdown",
      "metadata": {
        "id": "C0hQ8weA5vrJ"
      },
      "source": [
        "**Reporte de métricas**"
      ]
    },
    {
      "cell_type": "code",
      "metadata": {
        "id": "e0m492xF5a6w",
        "outputId": "373b9943-5ea5-4469-a2b5-76555f3830fb",
        "colab": {
          "base_uri": "https://localhost:8080/"
        }
      },
      "source": [
        "from sklearn.metrics import classification_report\n",
        "print(classification_report(y_test, y_pred, target_names=None))"
      ],
      "execution_count": null,
      "outputs": [
        {
          "output_type": "stream",
          "name": "stdout",
          "text": [
            "              precision    recall  f1-score   support\n",
            "\n",
            "           0       0.89      0.87      0.88        39\n",
            "           1       0.93      0.95      0.94        75\n",
            "\n",
            "    accuracy                           0.92       114\n",
            "   macro avg       0.91      0.91      0.91       114\n",
            "weighted avg       0.92      0.92      0.92       114\n",
            "\n"
          ]
        }
      ]
    },
    {
      "cell_type": "markdown",
      "metadata": {
        "id": "Cdf9PGmw0hQA"
      },
      "source": [
        "**Conclusiones**\n",
        "\n",
        "1.ACCURACY ¿Qué porcentaje de predicciones el modelo clasifico correctamente? la proporción o porcentaje obtenido por el modelo para tareas de clasificación viene dado por un 91% de aciertos.\n",
        "\n",
        "2.PRECISIÓN ¿Qué porcentaje de predicciones positivas el modelo clasifico correctamente? 86%\n",
        "\n",
        "3.SENSIBILIDAD ¿Qué porcentaje de predicciones positivas reales el modelo clasifico correctamente?90%\n",
        "\n",
        "4.ESPECIFICIDAD ¿Qué porcentaje de predicciones negativas reales el modelo clasifico correctamente? TN/TN+FP\n",
        "\n",
        "5.PUNTUACIÓN F1 ¿Cuánto es la robustez del modelo? 88%"
      ]
    },
    {
      "cell_type": "code",
      "metadata": {
        "colab": {
          "base_uri": "https://localhost:8080/"
        },
        "id": "sUsJ3Nwvr8D2",
        "outputId": "34a5b798-8ae4-45fd-f949-ac8753e88543"
      },
      "source": [
        "# Accuracy(escactitud): mide el porcentaje de casos que el modelo ha acertado (TP+TN/TP+TN+FP+FN)\n",
        "from sklearn.metrics import accuracy_score\n",
        "accuracy_score(y_test, y_pred)"
      ],
      "execution_count": null,
      "outputs": [
        {
          "output_type": "execute_result",
          "data": {
            "text/plain": [
              "0.9210526315789473"
            ]
          },
          "metadata": {},
          "execution_count": 12
        }
      ]
    },
    {
      "cell_type": "code",
      "metadata": {
        "colab": {
          "base_uri": "https://localhost:8080/"
        },
        "id": "Neh2QpvDr8D2",
        "outputId": "dce3e837-18e3-42ef-80dd-39e71a33284b"
      },
      "source": [
        "# Precision: mide la calidad del modelo de machine learning en tareas de clasificación (TP/TP+FP)\n",
        "# ¿Qué porcentaje de lo identificado como positivo es realmente correcto?\n",
        "from sklearn.metrics import precision_score\n",
        "precision_score(y_test, y_pred)"
      ],
      "execution_count": null,
      "outputs": [
        {
          "output_type": "execute_result",
          "data": {
            "text/plain": [
              "0.9342105263157895"
            ]
          },
          "metadata": {},
          "execution_count": 13
        }
      ]
    },
    {
      "cell_type": "code",
      "metadata": {
        "colab": {
          "base_uri": "https://localhost:8080/"
        },
        "id": "ggZIDtz4r8D3",
        "outputId": "870148f9-df0c-4d15-baa8-24e7a384571c"
      },
      "source": [
        "# Recall(sensibilidad) - ¿Qué porcentaje de los valores positivos reales fueron bien identificados?\n",
        "# (Tasa positiva real= TP/TP+FP)\n",
        "from sklearn.metrics import recall_score\n",
        "recall_score(y_test, y_pred)"
      ],
      "execution_count": null,
      "outputs": [
        {
          "output_type": "execute_result",
          "data": {
            "text/plain": [
              "0.9466666666666667"
            ]
          },
          "metadata": {},
          "execution_count": 17
        }
      ]
    },
    {
      "cell_type": "code",
      "metadata": {
        "colab": {
          "base_uri": "https://localhost:8080/"
        },
        "id": "9TQq_6YYr8D4",
        "outputId": "6f5e24df-5d3f-45ea-d57a-ced46397b195"
      },
      "source": [
        "# Puntuación F1: Rendimiento combinado de la precisión y la sensibilidad\n",
        "# (2TP/2TP+FP+FN)  \n",
        "from sklearn.metrics import f1_score \n",
        "f1_score(y_test, y_pred)"
      ],
      "execution_count": null,
      "outputs": [
        {
          "output_type": "execute_result",
          "data": {
            "text/plain": [
              "0.9403973509933775"
            ]
          },
          "metadata": {},
          "execution_count": 18
        }
      ]
    }
  ]
}